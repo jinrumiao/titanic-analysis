{
  "nbformat": 4,
  "nbformat_minor": 0,
  "metadata": {
    "colab": {
      "provenance": [],
      "authorship_tag": "ABX9TyN8HQeUSUrxVbFKzYcmTWxY",
      "include_colab_link": true
    },
    "kernelspec": {
      "name": "python3",
      "display_name": "Python 3"
    },
    "language_info": {
      "name": "python"
    }
  },
  "cells": [
    {
      "cell_type": "markdown",
      "metadata": {
        "id": "view-in-github",
        "colab_type": "text"
      },
      "source": [
        "<a href=\"https://colab.research.google.com/github/jinrumiao/titanic-analysis/blob/main/%E5%B0%88%E9%A1%8C%E5%AF%A6%E4%BD%9C_01%EF%BC%9A%E9%90%B5%E9%81%94%E5%B0%BC%E8%99%9F%E5%AD%98%E6%B4%BB%E9%A0%90%E6%B8%AC.ipynb\" target=\"_parent\"><img src=\"https://colab.research.google.com/assets/colab-badge.svg\" alt=\"Open In Colab\"/></a>"
      ]
    },
    {
      "cell_type": "markdown",
      "source": [
        "\n",
        "\n",
        "**1.   載入資料、確認資料內容**\n"
      ],
      "metadata": {
        "id": "10OMHzZmtfCe"
      }
    },
    {
      "cell_type": "code",
      "source": [
        "import pandas as pd\n",
        "import numpy as np\n",
        "\n",
        "df = pd.read_csv('https://raw.githubusercontent.com/dsindy/kaggle-titanic/master/data/train.csv')\n",
        "\n",
        "df.info()"
      ],
      "metadata": {
        "colab": {
          "base_uri": "https://localhost:8080/"
        },
        "id": "5OlubSois4dt",
        "outputId": "904b179b-754c-413c-a1eb-2c9cb63e6d8d"
      },
      "execution_count": 16,
      "outputs": [
        {
          "output_type": "stream",
          "name": "stdout",
          "text": [
            "<class 'pandas.core.frame.DataFrame'>\n",
            "RangeIndex: 891 entries, 0 to 890\n",
            "Data columns (total 12 columns):\n",
            " #   Column       Non-Null Count  Dtype  \n",
            "---  ------       --------------  -----  \n",
            " 0   PassengerId  891 non-null    int64  \n",
            " 1   Survived     891 non-null    int64  \n",
            " 2   Pclass       891 non-null    int64  \n",
            " 3   Name         891 non-null    object \n",
            " 4   Sex          891 non-null    object \n",
            " 5   Age          714 non-null    float64\n",
            " 6   SibSp        891 non-null    int64  \n",
            " 7   Parch        891 non-null    int64  \n",
            " 8   Ticket       891 non-null    object \n",
            " 9   Fare         891 non-null    float64\n",
            " 10  Cabin        204 non-null    object \n",
            " 11  Embarked     889 non-null    object \n",
            "dtypes: float64(2), int64(5), object(5)\n",
            "memory usage: 83.7+ KB\n"
          ]
        }
      ]
    },
    {
      "cell_type": "markdown",
      "source": [
        "**2.   資料前處理**\n",
        "\n"
      ],
      "metadata": {
        "id": "tPtufBzRtkpn"
      }
    },
    {
      "cell_type": "code",
      "source": [
        "from sklearn.preprocessing import StandardScaler\n",
        "\n",
        "# 移除對於是否存活沒有意義的特徵：PassengerId、Name、Ticket\n",
        "df.drop(columns=[\"PassengerId\", \"Name\", \"Ticket\"], axis=1, inplace=True, errors=\"ignore\")\n",
        "# 處理類別型資料：Sex、Cabin、Embarked\n",
        "df[\"Sex\"] = df[\"Sex\"].map({\"male\": 0, \"female\": 1})\n",
        "\n",
        "df[\"Cabin\"] = df[\"Cabin\"].notnull().astype(int)\n",
        "\n",
        "df.dropna(subset=[\"Embarked\"], inplace=True)\n",
        "one_hot_ec = pd.get_dummies(df[\"Embarked\"], prefix=\"Embarked\")\n",
        "df = pd.concat([df, one_hot_ec], axis=1)\n",
        "df.drop(\"Embarked\", axis=1, inplace=True)\n",
        "\n",
        "# 處理數值型資料：Pclass、Age、SibSp、Parch、Fare\n",
        "df[\"Age\"].fillna(df[\"Age\"].mean(), inplace=True)\n",
        "\n",
        "normalize_columns = [\"Age\", \"SibSp\", \"Parch\", \"Fare\"]\n",
        "scaler = StandardScaler()\n",
        "normalized_data = scaler.fit_transform(df[normalize_columns])\n",
        "normalized_df = pd.DataFrame(normalized_data, columns=normalize_columns)\n",
        "\n",
        "df[normalize_columns] = normalized_df\n",
        "\n",
        "df.dropna(how=\"any\", inplace=True)\n",
        "\n",
        "df.info()"
      ],
      "metadata": {
        "colab": {
          "base_uri": "https://localhost:8080/"
        },
        "id": "OdfwJgWEtGSy",
        "outputId": "ca2535a7-f8a1-4d00-b8b8-0c4fc5640402"
      },
      "execution_count": 17,
      "outputs": [
        {
          "output_type": "stream",
          "name": "stdout",
          "text": [
            "<class 'pandas.core.frame.DataFrame'>\n",
            "Int64Index: 887 entries, 0 to 888\n",
            "Data columns (total 11 columns):\n",
            " #   Column      Non-Null Count  Dtype  \n",
            "---  ------      --------------  -----  \n",
            " 0   Survived    887 non-null    int64  \n",
            " 1   Pclass      887 non-null    int64  \n",
            " 2   Sex         887 non-null    int64  \n",
            " 3   Age         887 non-null    float64\n",
            " 4   SibSp       887 non-null    float64\n",
            " 5   Parch       887 non-null    float64\n",
            " 6   Fare        887 non-null    float64\n",
            " 7   Cabin       887 non-null    int64  \n",
            " 8   Embarked_C  887 non-null    uint8  \n",
            " 9   Embarked_Q  887 non-null    uint8  \n",
            " 10  Embarked_S  887 non-null    uint8  \n",
            "dtypes: float64(4), int64(4), uint8(3)\n",
            "memory usage: 65.0 KB\n"
          ]
        }
      ]
    },
    {
      "cell_type": "markdown",
      "source": [
        "**3.   分離訓練資料與標籤**"
      ],
      "metadata": {
        "id": "BILEep4dxVD8"
      }
    },
    {
      "cell_type": "code",
      "source": [
        "df_train = df.copy()\n",
        "\n",
        "columns_X = set(df_train.columns) - {'Survived'}\n",
        "columns_y = ['Survived']\n",
        "\n",
        "train_X = df_train[list(columns_X)]\n",
        "train_y = df_train[columns_y]\n",
        "\n",
        "train_X.info()\n",
        "train_y.info()"
      ],
      "metadata": {
        "colab": {
          "base_uri": "https://localhost:8080/"
        },
        "id": "_9rnJ_JIxf1s",
        "outputId": "dcb57de7-333e-43cc-9fe0-d89e9d3b42a1"
      },
      "execution_count": 18,
      "outputs": [
        {
          "output_type": "stream",
          "name": "stdout",
          "text": [
            "<class 'pandas.core.frame.DataFrame'>\n",
            "Int64Index: 887 entries, 0 to 888\n",
            "Data columns (total 10 columns):\n",
            " #   Column      Non-Null Count  Dtype  \n",
            "---  ------      --------------  -----  \n",
            " 0   Parch       887 non-null    float64\n",
            " 1   Fare        887 non-null    float64\n",
            " 2   Embarked_S  887 non-null    uint8  \n",
            " 3   Age         887 non-null    float64\n",
            " 4   Embarked_Q  887 non-null    uint8  \n",
            " 5   Cabin       887 non-null    int64  \n",
            " 6   Pclass      887 non-null    int64  \n",
            " 7   SibSp       887 non-null    float64\n",
            " 8   Sex         887 non-null    int64  \n",
            " 9   Embarked_C  887 non-null    uint8  \n",
            "dtypes: float64(4), int64(3), uint8(3)\n",
            "memory usage: 58.0 KB\n",
            "<class 'pandas.core.frame.DataFrame'>\n",
            "Int64Index: 887 entries, 0 to 888\n",
            "Data columns (total 1 columns):\n",
            " #   Column    Non-Null Count  Dtype\n",
            "---  ------    --------------  -----\n",
            " 0   Survived  887 non-null    int64\n",
            "dtypes: int64(1)\n",
            "memory usage: 13.9 KB\n"
          ]
        }
      ]
    },
    {
      "cell_type": "markdown",
      "source": [
        "**4.   建立機器學習模型、進行訓練、評估模型**"
      ],
      "metadata": {
        "id": "p6wIPWbWyT2a"
      }
    },
    {
      "cell_type": "code",
      "source": [
        "from sklearn.linear_model import LogisticRegression\n",
        "from sklearn.model_selection import cross_val_score\n",
        "\n",
        "log = LogisticRegression(random_state=0, max_iter=3000)\n",
        "scores = cross_val_score(log, train_X, train_y.values.ravel(), cv=5, scoring='accuracy')\n",
        "print(scores)\n",
        "print(scores.mean())"
      ],
      "metadata": {
        "colab": {
          "base_uri": "https://localhost:8080/"
        },
        "id": "s8zk5fc_yULZ",
        "outputId": "69196864-6b0a-4bf0-922c-a562afb16717"
      },
      "execution_count": 19,
      "outputs": [
        {
          "output_type": "stream",
          "name": "stdout",
          "text": [
            "[0.79213483 0.76966292 0.7740113  0.78531073 0.78531073]\n",
            "0.7812861042341142\n"
          ]
        }
      ]
    }
  ]
}